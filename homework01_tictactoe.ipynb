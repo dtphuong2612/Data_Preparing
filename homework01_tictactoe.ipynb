{
  "nbformat": 4,
  "nbformat_minor": 0,
  "metadata": {
    "colab": {
      "name": "homework01_tictactoe",
      "provenance": []
    },
    "kernelspec": {
      "name": "python3",
      "display_name": "Python 3"
    },
    "language_info": {
      "name": "python"
    }
  },
  "cells": [
    {
      "cell_type": "code",
      "metadata": {
        "id": "alaBNta5CZCV"
      },
      "source": [
        "import random "
      ],
      "execution_count": 7,
      "outputs": []
    },
    {
      "cell_type": "code",
      "metadata": {
        "id": "TzUceUI1Lxsp"
      },
      "source": [
        "class tictactoe():\n",
        "    def __init__(self):\n",
        "        self.board = np.full((3,3), '-')\n",
        "    def get_random_first_player(self):\n",
        "            return random.randint(0, 1)\n",
        "    def fix_spot(self, row, col, player):\n",
        "            self.board[row][col] = player\n",
        "    def is_player_win(self, player):\n",
        "            win = None\n",
        "\n",
        "            n = len(self.board)\n",
        "\n",
        "            # checking rows\n",
        "            for i in range(n):\n",
        "                win = True\n",
        "                for j in range(n):\n",
        "                    if self.board[i,j] != player:\n",
        "                        win = False\n",
        "                        break\n",
        "                if win:\n",
        "                    return win\n",
        "            # checking columns\n",
        "            for i in range(n):\n",
        "                win = True\n",
        "                for j in range(n):\n",
        "                    if self.board[j,i] != player:\n",
        "                        win = False\n",
        "                        break\n",
        "                if win:\n",
        "                    return win\n",
        "            # checking diagonals\n",
        "            win = True\n",
        "            for i in range(n):\n",
        "                if self.board[i,i] != player:\n",
        "                    win = False\n",
        "                    break\n",
        "            if win:\n",
        "                return win\n",
        "\n",
        "            win = True\n",
        "            for i in range(n):\n",
        "                if self.board[i,n - 1 - i] != player:\n",
        "                    win = False\n",
        "                    break\n",
        "            if win:\n",
        "                return win\n",
        "            return False\n",
        "\n",
        "            for row in self.board:\n",
        "                for item in row:\n",
        "                    if item == '-':\n",
        "                        return False\n",
        "            return True\n",
        "    def is_board_filled(self):\n",
        "        for row in self.board:\n",
        "            for item in row:\n",
        "                if item == '-':\n",
        "                    return False\n",
        "        return True\n",
        "\n",
        "    def swap_player_turn(self, player):\n",
        "        return 'X' if player == 'O' else 'O'\n",
        "\n",
        "    def show_board(self):\n",
        "        for row in self.board:\n",
        "            for item in row:\n",
        "                print(item, end=\" \")\n",
        "            print()\n",
        "\n",
        "    def start(self):\n",
        "\n",
        "        player = 'X' if self.get_random_first_player() == 1 else 'O'\n",
        "        while True:\n",
        "            print(f\"Player {player} turn\")\n",
        "\n",
        "            self.show_board()\n",
        "\n",
        "            # taking user input\n",
        "            row, col = list(\n",
        "                map(int, input(\"Enter row and column numbers to fix spot: \").split()))\n",
        "            print()\n",
        "\n",
        "            # fixing the spot\n",
        "            while self.board[row - 1,col - 1] != '-':\n",
        "              row, col = list(\n",
        "                map(int, input(\"The spot you selected has been occupied. Enter row and column numbers to fix spot: \").split()))\n",
        "            self.fix_spot(row - 1, col - 1, player)\n",
        "\n",
        "            # checking whether current player is won or not\n",
        "            if self.is_player_win(player):\n",
        "                print(f\"Player {player} wins the game!\")\n",
        "                break\n",
        "\n",
        "            # checking whether the game is draw or not\n",
        "            if self.is_board_filled():\n",
        "                print(\"Match Draw!\")\n",
        "                break\n",
        "\n",
        "            # swapping the turn\n",
        "            player = self.swap_player_turn(player)\n",
        "\n",
        "        # showing the final view of board\n",
        "        print()\n",
        "        self.show_board()"
      ],
      "execution_count": 11,
      "outputs": []
    },
    {
      "cell_type": "code",
      "metadata": {
        "colab": {
          "base_uri": "https://localhost:8080/"
        },
        "id": "0LcgLLidnqwO",
        "outputId": "c8c169d2-960a-4c55-cb11-32eaef49d352"
      },
      "source": [
        "tic_tac_toe = tictactoe()\n",
        "tic_tac_toe.start()"
      ],
      "execution_count": 12,
      "outputs": [
        {
          "output_type": "stream",
          "name": "stdout",
          "text": [
            "Player X turn\n",
            "- - - \n",
            "- - - \n",
            "- - - \n",
            "Enter row and column numbers to fix spot: 1 1\n",
            "\n",
            "Player O turn\n",
            "X - - \n",
            "- - - \n",
            "- - - \n",
            "Enter row and column numbers to fix spot: 1 2\n",
            "\n",
            "Player X turn\n",
            "X O - \n",
            "- - - \n",
            "- - - \n",
            "Enter row and column numbers to fix spot: 2 1\n",
            "\n",
            "Player O turn\n",
            "X O - \n",
            "X - - \n",
            "- - - \n",
            "Enter row and column numbers to fix spot: 2 2\n",
            "\n",
            "Player X turn\n",
            "X O - \n",
            "X O - \n",
            "- - - \n",
            "Enter row and column numbers to fix spot: 3 1\n",
            "\n",
            "Player X wins the game!\n",
            "\n",
            "X O - \n",
            "X O - \n",
            "X - - \n"
          ]
        }
      ]
    },
    {
      "cell_type": "code",
      "metadata": {
        "id": "gGp3N1MpnubR"
      },
      "source": [
        ""
      ],
      "execution_count": null,
      "outputs": []
    }
  ]
}